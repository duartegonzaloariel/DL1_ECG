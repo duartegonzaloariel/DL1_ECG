{
  "cells": [
    {
      "cell_type": "markdown",
      "source": [
        "# **ECG Heartbeat Classification**\n",
        "In this practice we will detect cases of cardiovascular disease througth the analysis of heardbeats\n",
        "\n",
        "This exercise is based on [paper](https://arxiv.org/pdf/1805.00794.pdf) that solves the problem we are facing.\n"
      ],
      "metadata": {
        "id": "kKM_Hco8V_LW"
      }
    },
    {
      "cell_type": "markdown",
      "source": [
        "# **1. Data Analysis**"
      ],
      "metadata": {
        "id": "0Vo1Bvp3Pk5a"
      }
    },
    {
      "cell_type": "markdown",
      "source": [
        "## Library Import"
      ],
      "metadata": {
        "id": "uEG6Hq4dV_Lc"
      }
    },
    {
      "cell_type": "code",
      "execution_count": 107,
      "source": [
        "import pandas as pd\n",
        "import matplotlib.pyplot as plt\n",
        "import numpy as np"
      ],
      "outputs": [],
      "metadata": {
        "id": "Os1QvOyEV_Le"
      }
    },
    {
      "cell_type": "markdown",
      "source": [
        "## Dataset Import"
      ],
      "metadata": {
        "id": "5UXDm9B8V_Lg"
      }
    },
    {
      "cell_type": "code",
      "source": [
        "# Connect with Google Drive\n",
        "from google.colab import drive\n",
        "drive.mount('/content/drive')"
      ],
      "metadata": {
        "colab": {
          "base_uri": "https://localhost:8080/"
        },
        "id": "W72t6p0jKiLo",
        "outputId": "62fc9b15-c5ea-45f4-b700-7d96869f6ac4"
      },
      "execution_count": 108,
      "outputs": [
        {
          "output_type": "stream",
          "name": "stdout",
          "text": [
            "Drive already mounted at /content/drive; to attempt to forcibly remount, call drive.mount(\"/content/drive\", force_remount=True).\n"
          ]
        }
      ]
    },
    {
      "cell_type": "code",
      "execution_count": 109,
      "source": [
        "data = pd.read_csv('/content/drive/MyDrive/datasets/DL1_ECD/mitbih_train.csv', header=None)"
      ],
      "outputs": [],
      "metadata": {
        "id": "_Git2jLSV_Lg"
      }
    },
    {
      "cell_type": "code",
      "execution_count": 110,
      "source": [
        "data.shape"
      ],
      "outputs": [
        {
          "output_type": "execute_result",
          "data": {
            "text/plain": [
              "(87554, 188)"
            ]
          },
          "metadata": {},
          "execution_count": 110
        }
      ],
      "metadata": {
        "id": "fn6GXQWoV_Li",
        "colab": {
          "base_uri": "https://localhost:8080/"
        },
        "outputId": "124cb94d-bf35-4d25-a1e6-85d75ff3eef1"
      }
    },
    {
      "cell_type": "code",
      "execution_count": 111,
      "source": [
        "data.head()"
      ],
      "outputs": [
        {
          "output_type": "execute_result",
          "data": {
            "text/plain": [
              "        0         1         2         3         4         5         6    \\\n",
              "0  0.977941  0.926471  0.681373  0.245098  0.154412  0.191176  0.151961   \n",
              "1  0.960114  0.863248  0.461538  0.196581  0.094017  0.125356  0.099715   \n",
              "2  1.000000  0.659459  0.186486  0.070270  0.070270  0.059459  0.056757   \n",
              "3  0.925414  0.665746  0.541436  0.276243  0.196133  0.077348  0.071823   \n",
              "4  0.967136  1.000000  0.830986  0.586854  0.356808  0.248826  0.145540   \n",
              "\n",
              "        7         8         9    ...  178  179  180  181  182  183  184  185  \\\n",
              "0  0.085784  0.058824  0.049020  ...  0.0  0.0  0.0  0.0  0.0  0.0  0.0  0.0   \n",
              "1  0.088319  0.074074  0.082621  ...  0.0  0.0  0.0  0.0  0.0  0.0  0.0  0.0   \n",
              "2  0.043243  0.054054  0.045946  ...  0.0  0.0  0.0  0.0  0.0  0.0  0.0  0.0   \n",
              "3  0.060773  0.066298  0.058011  ...  0.0  0.0  0.0  0.0  0.0  0.0  0.0  0.0   \n",
              "4  0.089202  0.117371  0.150235  ...  0.0  0.0  0.0  0.0  0.0  0.0  0.0  0.0   \n",
              "\n",
              "   186  187  \n",
              "0  0.0  0.0  \n",
              "1  0.0  0.0  \n",
              "2  0.0  0.0  \n",
              "3  0.0  0.0  \n",
              "4  0.0  0.0  \n",
              "\n",
              "[5 rows x 188 columns]"
            ],
            "text/html": [
              "\n",
              "  <div id=\"df-fedeef14-2b8c-48c3-bc7c-ee2fa14a5d70\">\n",
              "    <div class=\"colab-df-container\">\n",
              "      <div>\n",
              "<style scoped>\n",
              "    .dataframe tbody tr th:only-of-type {\n",
              "        vertical-align: middle;\n",
              "    }\n",
              "\n",
              "    .dataframe tbody tr th {\n",
              "        vertical-align: top;\n",
              "    }\n",
              "\n",
              "    .dataframe thead th {\n",
              "        text-align: right;\n",
              "    }\n",
              "</style>\n",
              "<table border=\"1\" class=\"dataframe\">\n",
              "  <thead>\n",
              "    <tr style=\"text-align: right;\">\n",
              "      <th></th>\n",
              "      <th>0</th>\n",
              "      <th>1</th>\n",
              "      <th>2</th>\n",
              "      <th>3</th>\n",
              "      <th>4</th>\n",
              "      <th>5</th>\n",
              "      <th>6</th>\n",
              "      <th>7</th>\n",
              "      <th>8</th>\n",
              "      <th>9</th>\n",
              "      <th>...</th>\n",
              "      <th>178</th>\n",
              "      <th>179</th>\n",
              "      <th>180</th>\n",
              "      <th>181</th>\n",
              "      <th>182</th>\n",
              "      <th>183</th>\n",
              "      <th>184</th>\n",
              "      <th>185</th>\n",
              "      <th>186</th>\n",
              "      <th>187</th>\n",
              "    </tr>\n",
              "  </thead>\n",
              "  <tbody>\n",
              "    <tr>\n",
              "      <th>0</th>\n",
              "      <td>0.977941</td>\n",
              "      <td>0.926471</td>\n",
              "      <td>0.681373</td>\n",
              "      <td>0.245098</td>\n",
              "      <td>0.154412</td>\n",
              "      <td>0.191176</td>\n",
              "      <td>0.151961</td>\n",
              "      <td>0.085784</td>\n",
              "      <td>0.058824</td>\n",
              "      <td>0.049020</td>\n",
              "      <td>...</td>\n",
              "      <td>0.0</td>\n",
              "      <td>0.0</td>\n",
              "      <td>0.0</td>\n",
              "      <td>0.0</td>\n",
              "      <td>0.0</td>\n",
              "      <td>0.0</td>\n",
              "      <td>0.0</td>\n",
              "      <td>0.0</td>\n",
              "      <td>0.0</td>\n",
              "      <td>0.0</td>\n",
              "    </tr>\n",
              "    <tr>\n",
              "      <th>1</th>\n",
              "      <td>0.960114</td>\n",
              "      <td>0.863248</td>\n",
              "      <td>0.461538</td>\n",
              "      <td>0.196581</td>\n",
              "      <td>0.094017</td>\n",
              "      <td>0.125356</td>\n",
              "      <td>0.099715</td>\n",
              "      <td>0.088319</td>\n",
              "      <td>0.074074</td>\n",
              "      <td>0.082621</td>\n",
              "      <td>...</td>\n",
              "      <td>0.0</td>\n",
              "      <td>0.0</td>\n",
              "      <td>0.0</td>\n",
              "      <td>0.0</td>\n",
              "      <td>0.0</td>\n",
              "      <td>0.0</td>\n",
              "      <td>0.0</td>\n",
              "      <td>0.0</td>\n",
              "      <td>0.0</td>\n",
              "      <td>0.0</td>\n",
              "    </tr>\n",
              "    <tr>\n",
              "      <th>2</th>\n",
              "      <td>1.000000</td>\n",
              "      <td>0.659459</td>\n",
              "      <td>0.186486</td>\n",
              "      <td>0.070270</td>\n",
              "      <td>0.070270</td>\n",
              "      <td>0.059459</td>\n",
              "      <td>0.056757</td>\n",
              "      <td>0.043243</td>\n",
              "      <td>0.054054</td>\n",
              "      <td>0.045946</td>\n",
              "      <td>...</td>\n",
              "      <td>0.0</td>\n",
              "      <td>0.0</td>\n",
              "      <td>0.0</td>\n",
              "      <td>0.0</td>\n",
              "      <td>0.0</td>\n",
              "      <td>0.0</td>\n",
              "      <td>0.0</td>\n",
              "      <td>0.0</td>\n",
              "      <td>0.0</td>\n",
              "      <td>0.0</td>\n",
              "    </tr>\n",
              "    <tr>\n",
              "      <th>3</th>\n",
              "      <td>0.925414</td>\n",
              "      <td>0.665746</td>\n",
              "      <td>0.541436</td>\n",
              "      <td>0.276243</td>\n",
              "      <td>0.196133</td>\n",
              "      <td>0.077348</td>\n",
              "      <td>0.071823</td>\n",
              "      <td>0.060773</td>\n",
              "      <td>0.066298</td>\n",
              "      <td>0.058011</td>\n",
              "      <td>...</td>\n",
              "      <td>0.0</td>\n",
              "      <td>0.0</td>\n",
              "      <td>0.0</td>\n",
              "      <td>0.0</td>\n",
              "      <td>0.0</td>\n",
              "      <td>0.0</td>\n",
              "      <td>0.0</td>\n",
              "      <td>0.0</td>\n",
              "      <td>0.0</td>\n",
              "      <td>0.0</td>\n",
              "    </tr>\n",
              "    <tr>\n",
              "      <th>4</th>\n",
              "      <td>0.967136</td>\n",
              "      <td>1.000000</td>\n",
              "      <td>0.830986</td>\n",
              "      <td>0.586854</td>\n",
              "      <td>0.356808</td>\n",
              "      <td>0.248826</td>\n",
              "      <td>0.145540</td>\n",
              "      <td>0.089202</td>\n",
              "      <td>0.117371</td>\n",
              "      <td>0.150235</td>\n",
              "      <td>...</td>\n",
              "      <td>0.0</td>\n",
              "      <td>0.0</td>\n",
              "      <td>0.0</td>\n",
              "      <td>0.0</td>\n",
              "      <td>0.0</td>\n",
              "      <td>0.0</td>\n",
              "      <td>0.0</td>\n",
              "      <td>0.0</td>\n",
              "      <td>0.0</td>\n",
              "      <td>0.0</td>\n",
              "    </tr>\n",
              "  </tbody>\n",
              "</table>\n",
              "<p>5 rows × 188 columns</p>\n",
              "</div>\n",
              "      <button class=\"colab-df-convert\" onclick=\"convertToInteractive('df-fedeef14-2b8c-48c3-bc7c-ee2fa14a5d70')\"\n",
              "              title=\"Convert this dataframe to an interactive table.\"\n",
              "              style=\"display:none;\">\n",
              "        \n",
              "  <svg xmlns=\"http://www.w3.org/2000/svg\" height=\"24px\"viewBox=\"0 0 24 24\"\n",
              "       width=\"24px\">\n",
              "    <path d=\"M0 0h24v24H0V0z\" fill=\"none\"/>\n",
              "    <path d=\"M18.56 5.44l.94 2.06.94-2.06 2.06-.94-2.06-.94-.94-2.06-.94 2.06-2.06.94zm-11 1L8.5 8.5l.94-2.06 2.06-.94-2.06-.94L8.5 2.5l-.94 2.06-2.06.94zm10 10l.94 2.06.94-2.06 2.06-.94-2.06-.94-.94-2.06-.94 2.06-2.06.94z\"/><path d=\"M17.41 7.96l-1.37-1.37c-.4-.4-.92-.59-1.43-.59-.52 0-1.04.2-1.43.59L10.3 9.45l-7.72 7.72c-.78.78-.78 2.05 0 2.83L4 21.41c.39.39.9.59 1.41.59.51 0 1.02-.2 1.41-.59l7.78-7.78 2.81-2.81c.8-.78.8-2.07 0-2.86zM5.41 20L4 18.59l7.72-7.72 1.47 1.35L5.41 20z\"/>\n",
              "  </svg>\n",
              "      </button>\n",
              "      \n",
              "  <style>\n",
              "    .colab-df-container {\n",
              "      display:flex;\n",
              "      flex-wrap:wrap;\n",
              "      gap: 12px;\n",
              "    }\n",
              "\n",
              "    .colab-df-convert {\n",
              "      background-color: #E8F0FE;\n",
              "      border: none;\n",
              "      border-radius: 50%;\n",
              "      cursor: pointer;\n",
              "      display: none;\n",
              "      fill: #1967D2;\n",
              "      height: 32px;\n",
              "      padding: 0 0 0 0;\n",
              "      width: 32px;\n",
              "    }\n",
              "\n",
              "    .colab-df-convert:hover {\n",
              "      background-color: #E2EBFA;\n",
              "      box-shadow: 0px 1px 2px rgba(60, 64, 67, 0.3), 0px 1px 3px 1px rgba(60, 64, 67, 0.15);\n",
              "      fill: #174EA6;\n",
              "    }\n",
              "\n",
              "    [theme=dark] .colab-df-convert {\n",
              "      background-color: #3B4455;\n",
              "      fill: #D2E3FC;\n",
              "    }\n",
              "\n",
              "    [theme=dark] .colab-df-convert:hover {\n",
              "      background-color: #434B5C;\n",
              "      box-shadow: 0px 1px 3px 1px rgba(0, 0, 0, 0.15);\n",
              "      filter: drop-shadow(0px 1px 2px rgba(0, 0, 0, 0.3));\n",
              "      fill: #FFFFFF;\n",
              "    }\n",
              "  </style>\n",
              "\n",
              "      <script>\n",
              "        const buttonEl =\n",
              "          document.querySelector('#df-fedeef14-2b8c-48c3-bc7c-ee2fa14a5d70 button.colab-df-convert');\n",
              "        buttonEl.style.display =\n",
              "          google.colab.kernel.accessAllowed ? 'block' : 'none';\n",
              "\n",
              "        async function convertToInteractive(key) {\n",
              "          const element = document.querySelector('#df-fedeef14-2b8c-48c3-bc7c-ee2fa14a5d70');\n",
              "          const dataTable =\n",
              "            await google.colab.kernel.invokeFunction('convertToInteractive',\n",
              "                                                     [key], {});\n",
              "          if (!dataTable) return;\n",
              "\n",
              "          const docLinkHtml = 'Like what you see? Visit the ' +\n",
              "            '<a target=\"_blank\" href=https://colab.research.google.com/notebooks/data_table.ipynb>data table notebook</a>'\n",
              "            + ' to learn more about interactive tables.';\n",
              "          element.innerHTML = '';\n",
              "          dataTable['output_type'] = 'display_data';\n",
              "          await google.colab.output.renderOutput(dataTable, element);\n",
              "          const docLink = document.createElement('div');\n",
              "          docLink.innerHTML = docLinkHtml;\n",
              "          element.appendChild(docLink);\n",
              "        }\n",
              "      </script>\n",
              "    </div>\n",
              "  </div>\n",
              "  "
            ]
          },
          "metadata": {},
          "execution_count": 111
        }
      ],
      "metadata": {
        "scrolled": true,
        "id": "FBDWmMxvV_Lk",
        "colab": {
          "base_uri": "https://localhost:8080/",
          "height": 236
        },
        "outputId": "9ed87190-f906-48f8-e7fd-0e8f90805401"
      }
    },
    {
      "cell_type": "markdown",
      "source": [
        "Each column represents an elctrocardiogram reading (at 125hz). In total thera are 187 readings, in this columns we have about a second and half off keystrokes. The last column contains the category to which these keystrokes belong. In total there are five, each represented by a number:\n",
        "- Normal:0\n",
        "- Premature arrhythmia:1\n",
        "- Ventricular premature contraction or Ventricular escape:2\n",
        "- Fusion of ventricular and normal contraction:3\n",
        "- Resuscitation, fusion of normal and resucitation or unclassifiable:4\n"
      ],
      "metadata": {
        "id": "3GJ5i9QeV_Lk"
      }
    },
    {
      "cell_type": "markdown",
      "source": [
        "## Data Distribution"
      ],
      "metadata": {
        "id": "72Zo275fV_Ll"
      }
    },
    {
      "cell_type": "code",
      "execution_count": 112,
      "source": [
        "data.describe()"
      ],
      "outputs": [
        {
          "output_type": "execute_result",
          "data": {
            "text/plain": [
              "                0             1             2             3             4    \\\n",
              "count  87554.000000  87554.000000  87554.000000  87554.000000  87554.000000   \n",
              "mean       0.890360      0.758160      0.423972      0.219104      0.201127   \n",
              "std        0.240909      0.221813      0.227305      0.206878      0.177058   \n",
              "min        0.000000      0.000000      0.000000      0.000000      0.000000   \n",
              "25%        0.921922      0.682486      0.250969      0.048458      0.082329   \n",
              "50%        0.991342      0.826013      0.429472      0.166000      0.147878   \n",
              "75%        1.000000      0.910506      0.578767      0.341727      0.258993   \n",
              "max        1.000000      1.000000      1.000000      1.000000      1.000000   \n",
              "\n",
              "                5             6             7             8             9    \\\n",
              "count  87554.000000  87554.000000  87554.000000  87554.000000  87554.000000   \n",
              "mean       0.210399      0.205808      0.201773      0.198691      0.196757   \n",
              "std        0.171909      0.178481      0.177240      0.171778      0.168357   \n",
              "min        0.000000      0.000000      0.000000      0.000000      0.000000   \n",
              "25%        0.088416      0.073333      0.066116      0.065000      0.068639   \n",
              "50%        0.158798      0.145324      0.144424      0.150000      0.148734   \n",
              "75%        0.287628      0.298237      0.295391      0.290832      0.283636   \n",
              "max        1.000000      1.000000      1.000000      1.000000      1.000000   \n",
              "\n",
              "       ...           178           179           180           181  \\\n",
              "count  ...  87554.000000  87554.000000  87554.000000  87554.000000   \n",
              "mean   ...      0.005025      0.004628      0.004291      0.003945   \n",
              "std    ...      0.044154      0.042089      0.040525      0.038651   \n",
              "min    ...      0.000000      0.000000      0.000000      0.000000   \n",
              "25%    ...      0.000000      0.000000      0.000000      0.000000   \n",
              "50%    ...      0.000000      0.000000      0.000000      0.000000   \n",
              "75%    ...      0.000000      0.000000      0.000000      0.000000   \n",
              "max    ...      1.000000      1.000000      1.000000      1.000000   \n",
              "\n",
              "                182           183           184           185           186  \\\n",
              "count  87554.000000  87554.000000  87554.000000  87554.000000  87554.000000   \n",
              "mean       0.003681      0.003471      0.003221      0.002945      0.002807   \n",
              "std        0.037193      0.036255      0.034789      0.032865      0.031924   \n",
              "min        0.000000      0.000000      0.000000      0.000000      0.000000   \n",
              "25%        0.000000      0.000000      0.000000      0.000000      0.000000   \n",
              "50%        0.000000      0.000000      0.000000      0.000000      0.000000   \n",
              "75%        0.000000      0.000000      0.000000      0.000000      0.000000   \n",
              "max        1.000000      1.000000      1.000000      1.000000      1.000000   \n",
              "\n",
              "                187  \n",
              "count  87554.000000  \n",
              "mean       0.473376  \n",
              "std        1.143184  \n",
              "min        0.000000  \n",
              "25%        0.000000  \n",
              "50%        0.000000  \n",
              "75%        0.000000  \n",
              "max        4.000000  \n",
              "\n",
              "[8 rows x 188 columns]"
            ],
            "text/html": [
              "\n",
              "  <div id=\"df-964da2b8-d766-42b2-b465-36d416ea2a60\">\n",
              "    <div class=\"colab-df-container\">\n",
              "      <div>\n",
              "<style scoped>\n",
              "    .dataframe tbody tr th:only-of-type {\n",
              "        vertical-align: middle;\n",
              "    }\n",
              "\n",
              "    .dataframe tbody tr th {\n",
              "        vertical-align: top;\n",
              "    }\n",
              "\n",
              "    .dataframe thead th {\n",
              "        text-align: right;\n",
              "    }\n",
              "</style>\n",
              "<table border=\"1\" class=\"dataframe\">\n",
              "  <thead>\n",
              "    <tr style=\"text-align: right;\">\n",
              "      <th></th>\n",
              "      <th>0</th>\n",
              "      <th>1</th>\n",
              "      <th>2</th>\n",
              "      <th>3</th>\n",
              "      <th>4</th>\n",
              "      <th>5</th>\n",
              "      <th>6</th>\n",
              "      <th>7</th>\n",
              "      <th>8</th>\n",
              "      <th>9</th>\n",
              "      <th>...</th>\n",
              "      <th>178</th>\n",
              "      <th>179</th>\n",
              "      <th>180</th>\n",
              "      <th>181</th>\n",
              "      <th>182</th>\n",
              "      <th>183</th>\n",
              "      <th>184</th>\n",
              "      <th>185</th>\n",
              "      <th>186</th>\n",
              "      <th>187</th>\n",
              "    </tr>\n",
              "  </thead>\n",
              "  <tbody>\n",
              "    <tr>\n",
              "      <th>count</th>\n",
              "      <td>87554.000000</td>\n",
              "      <td>87554.000000</td>\n",
              "      <td>87554.000000</td>\n",
              "      <td>87554.000000</td>\n",
              "      <td>87554.000000</td>\n",
              "      <td>87554.000000</td>\n",
              "      <td>87554.000000</td>\n",
              "      <td>87554.000000</td>\n",
              "      <td>87554.000000</td>\n",
              "      <td>87554.000000</td>\n",
              "      <td>...</td>\n",
              "      <td>87554.000000</td>\n",
              "      <td>87554.000000</td>\n",
              "      <td>87554.000000</td>\n",
              "      <td>87554.000000</td>\n",
              "      <td>87554.000000</td>\n",
              "      <td>87554.000000</td>\n",
              "      <td>87554.000000</td>\n",
              "      <td>87554.000000</td>\n",
              "      <td>87554.000000</td>\n",
              "      <td>87554.000000</td>\n",
              "    </tr>\n",
              "    <tr>\n",
              "      <th>mean</th>\n",
              "      <td>0.890360</td>\n",
              "      <td>0.758160</td>\n",
              "      <td>0.423972</td>\n",
              "      <td>0.219104</td>\n",
              "      <td>0.201127</td>\n",
              "      <td>0.210399</td>\n",
              "      <td>0.205808</td>\n",
              "      <td>0.201773</td>\n",
              "      <td>0.198691</td>\n",
              "      <td>0.196757</td>\n",
              "      <td>...</td>\n",
              "      <td>0.005025</td>\n",
              "      <td>0.004628</td>\n",
              "      <td>0.004291</td>\n",
              "      <td>0.003945</td>\n",
              "      <td>0.003681</td>\n",
              "      <td>0.003471</td>\n",
              "      <td>0.003221</td>\n",
              "      <td>0.002945</td>\n",
              "      <td>0.002807</td>\n",
              "      <td>0.473376</td>\n",
              "    </tr>\n",
              "    <tr>\n",
              "      <th>std</th>\n",
              "      <td>0.240909</td>\n",
              "      <td>0.221813</td>\n",
              "      <td>0.227305</td>\n",
              "      <td>0.206878</td>\n",
              "      <td>0.177058</td>\n",
              "      <td>0.171909</td>\n",
              "      <td>0.178481</td>\n",
              "      <td>0.177240</td>\n",
              "      <td>0.171778</td>\n",
              "      <td>0.168357</td>\n",
              "      <td>...</td>\n",
              "      <td>0.044154</td>\n",
              "      <td>0.042089</td>\n",
              "      <td>0.040525</td>\n",
              "      <td>0.038651</td>\n",
              "      <td>0.037193</td>\n",
              "      <td>0.036255</td>\n",
              "      <td>0.034789</td>\n",
              "      <td>0.032865</td>\n",
              "      <td>0.031924</td>\n",
              "      <td>1.143184</td>\n",
              "    </tr>\n",
              "    <tr>\n",
              "      <th>min</th>\n",
              "      <td>0.000000</td>\n",
              "      <td>0.000000</td>\n",
              "      <td>0.000000</td>\n",
              "      <td>0.000000</td>\n",
              "      <td>0.000000</td>\n",
              "      <td>0.000000</td>\n",
              "      <td>0.000000</td>\n",
              "      <td>0.000000</td>\n",
              "      <td>0.000000</td>\n",
              "      <td>0.000000</td>\n",
              "      <td>...</td>\n",
              "      <td>0.000000</td>\n",
              "      <td>0.000000</td>\n",
              "      <td>0.000000</td>\n",
              "      <td>0.000000</td>\n",
              "      <td>0.000000</td>\n",
              "      <td>0.000000</td>\n",
              "      <td>0.000000</td>\n",
              "      <td>0.000000</td>\n",
              "      <td>0.000000</td>\n",
              "      <td>0.000000</td>\n",
              "    </tr>\n",
              "    <tr>\n",
              "      <th>25%</th>\n",
              "      <td>0.921922</td>\n",
              "      <td>0.682486</td>\n",
              "      <td>0.250969</td>\n",
              "      <td>0.048458</td>\n",
              "      <td>0.082329</td>\n",
              "      <td>0.088416</td>\n",
              "      <td>0.073333</td>\n",
              "      <td>0.066116</td>\n",
              "      <td>0.065000</td>\n",
              "      <td>0.068639</td>\n",
              "      <td>...</td>\n",
              "      <td>0.000000</td>\n",
              "      <td>0.000000</td>\n",
              "      <td>0.000000</td>\n",
              "      <td>0.000000</td>\n",
              "      <td>0.000000</td>\n",
              "      <td>0.000000</td>\n",
              "      <td>0.000000</td>\n",
              "      <td>0.000000</td>\n",
              "      <td>0.000000</td>\n",
              "      <td>0.000000</td>\n",
              "    </tr>\n",
              "    <tr>\n",
              "      <th>50%</th>\n",
              "      <td>0.991342</td>\n",
              "      <td>0.826013</td>\n",
              "      <td>0.429472</td>\n",
              "      <td>0.166000</td>\n",
              "      <td>0.147878</td>\n",
              "      <td>0.158798</td>\n",
              "      <td>0.145324</td>\n",
              "      <td>0.144424</td>\n",
              "      <td>0.150000</td>\n",
              "      <td>0.148734</td>\n",
              "      <td>...</td>\n",
              "      <td>0.000000</td>\n",
              "      <td>0.000000</td>\n",
              "      <td>0.000000</td>\n",
              "      <td>0.000000</td>\n",
              "      <td>0.000000</td>\n",
              "      <td>0.000000</td>\n",
              "      <td>0.000000</td>\n",
              "      <td>0.000000</td>\n",
              "      <td>0.000000</td>\n",
              "      <td>0.000000</td>\n",
              "    </tr>\n",
              "    <tr>\n",
              "      <th>75%</th>\n",
              "      <td>1.000000</td>\n",
              "      <td>0.910506</td>\n",
              "      <td>0.578767</td>\n",
              "      <td>0.341727</td>\n",
              "      <td>0.258993</td>\n",
              "      <td>0.287628</td>\n",
              "      <td>0.298237</td>\n",
              "      <td>0.295391</td>\n",
              "      <td>0.290832</td>\n",
              "      <td>0.283636</td>\n",
              "      <td>...</td>\n",
              "      <td>0.000000</td>\n",
              "      <td>0.000000</td>\n",
              "      <td>0.000000</td>\n",
              "      <td>0.000000</td>\n",
              "      <td>0.000000</td>\n",
              "      <td>0.000000</td>\n",
              "      <td>0.000000</td>\n",
              "      <td>0.000000</td>\n",
              "      <td>0.000000</td>\n",
              "      <td>0.000000</td>\n",
              "    </tr>\n",
              "    <tr>\n",
              "      <th>max</th>\n",
              "      <td>1.000000</td>\n",
              "      <td>1.000000</td>\n",
              "      <td>1.000000</td>\n",
              "      <td>1.000000</td>\n",
              "      <td>1.000000</td>\n",
              "      <td>1.000000</td>\n",
              "      <td>1.000000</td>\n",
              "      <td>1.000000</td>\n",
              "      <td>1.000000</td>\n",
              "      <td>1.000000</td>\n",
              "      <td>...</td>\n",
              "      <td>1.000000</td>\n",
              "      <td>1.000000</td>\n",
              "      <td>1.000000</td>\n",
              "      <td>1.000000</td>\n",
              "      <td>1.000000</td>\n",
              "      <td>1.000000</td>\n",
              "      <td>1.000000</td>\n",
              "      <td>1.000000</td>\n",
              "      <td>1.000000</td>\n",
              "      <td>4.000000</td>\n",
              "    </tr>\n",
              "  </tbody>\n",
              "</table>\n",
              "<p>8 rows × 188 columns</p>\n",
              "</div>\n",
              "      <button class=\"colab-df-convert\" onclick=\"convertToInteractive('df-964da2b8-d766-42b2-b465-36d416ea2a60')\"\n",
              "              title=\"Convert this dataframe to an interactive table.\"\n",
              "              style=\"display:none;\">\n",
              "        \n",
              "  <svg xmlns=\"http://www.w3.org/2000/svg\" height=\"24px\"viewBox=\"0 0 24 24\"\n",
              "       width=\"24px\">\n",
              "    <path d=\"M0 0h24v24H0V0z\" fill=\"none\"/>\n",
              "    <path d=\"M18.56 5.44l.94 2.06.94-2.06 2.06-.94-2.06-.94-.94-2.06-.94 2.06-2.06.94zm-11 1L8.5 8.5l.94-2.06 2.06-.94-2.06-.94L8.5 2.5l-.94 2.06-2.06.94zm10 10l.94 2.06.94-2.06 2.06-.94-2.06-.94-.94-2.06-.94 2.06-2.06.94z\"/><path d=\"M17.41 7.96l-1.37-1.37c-.4-.4-.92-.59-1.43-.59-.52 0-1.04.2-1.43.59L10.3 9.45l-7.72 7.72c-.78.78-.78 2.05 0 2.83L4 21.41c.39.39.9.59 1.41.59.51 0 1.02-.2 1.41-.59l7.78-7.78 2.81-2.81c.8-.78.8-2.07 0-2.86zM5.41 20L4 18.59l7.72-7.72 1.47 1.35L5.41 20z\"/>\n",
              "  </svg>\n",
              "      </button>\n",
              "      \n",
              "  <style>\n",
              "    .colab-df-container {\n",
              "      display:flex;\n",
              "      flex-wrap:wrap;\n",
              "      gap: 12px;\n",
              "    }\n",
              "\n",
              "    .colab-df-convert {\n",
              "      background-color: #E8F0FE;\n",
              "      border: none;\n",
              "      border-radius: 50%;\n",
              "      cursor: pointer;\n",
              "      display: none;\n",
              "      fill: #1967D2;\n",
              "      height: 32px;\n",
              "      padding: 0 0 0 0;\n",
              "      width: 32px;\n",
              "    }\n",
              "\n",
              "    .colab-df-convert:hover {\n",
              "      background-color: #E2EBFA;\n",
              "      box-shadow: 0px 1px 2px rgba(60, 64, 67, 0.3), 0px 1px 3px 1px rgba(60, 64, 67, 0.15);\n",
              "      fill: #174EA6;\n",
              "    }\n",
              "\n",
              "    [theme=dark] .colab-df-convert {\n",
              "      background-color: #3B4455;\n",
              "      fill: #D2E3FC;\n",
              "    }\n",
              "\n",
              "    [theme=dark] .colab-df-convert:hover {\n",
              "      background-color: #434B5C;\n",
              "      box-shadow: 0px 1px 3px 1px rgba(0, 0, 0, 0.15);\n",
              "      filter: drop-shadow(0px 1px 2px rgba(0, 0, 0, 0.3));\n",
              "      fill: #FFFFFF;\n",
              "    }\n",
              "  </style>\n",
              "\n",
              "      <script>\n",
              "        const buttonEl =\n",
              "          document.querySelector('#df-964da2b8-d766-42b2-b465-36d416ea2a60 button.colab-df-convert');\n",
              "        buttonEl.style.display =\n",
              "          google.colab.kernel.accessAllowed ? 'block' : 'none';\n",
              "\n",
              "        async function convertToInteractive(key) {\n",
              "          const element = document.querySelector('#df-964da2b8-d766-42b2-b465-36d416ea2a60');\n",
              "          const dataTable =\n",
              "            await google.colab.kernel.invokeFunction('convertToInteractive',\n",
              "                                                     [key], {});\n",
              "          if (!dataTable) return;\n",
              "\n",
              "          const docLinkHtml = 'Like what you see? Visit the ' +\n",
              "            '<a target=\"_blank\" href=https://colab.research.google.com/notebooks/data_table.ipynb>data table notebook</a>'\n",
              "            + ' to learn more about interactive tables.';\n",
              "          element.innerHTML = '';\n",
              "          dataTable['output_type'] = 'display_data';\n",
              "          await google.colab.output.renderOutput(dataTable, element);\n",
              "          const docLink = document.createElement('div');\n",
              "          docLink.innerHTML = docLinkHtml;\n",
              "          element.appendChild(docLink);\n",
              "        }\n",
              "      </script>\n",
              "    </div>\n",
              "  </div>\n",
              "  "
            ]
          },
          "metadata": {},
          "execution_count": 112
        }
      ],
      "metadata": {
        "id": "VNJzTIPDV_Ll",
        "colab": {
          "base_uri": "https://localhost:8080/",
          "height": 394
        },
        "outputId": "0ff17817-9b0c-4271-bb31-d151d7a08929"
      }
    },
    {
      "cell_type": "code",
      "execution_count": 113,
      "source": [
        "plt.plot(data.iloc[3])"
      ],
      "outputs": [
        {
          "output_type": "execute_result",
          "data": {
            "text/plain": [
              "[<matplotlib.lines.Line2D at 0x7f394e5c1210>]"
            ]
          },
          "metadata": {},
          "execution_count": 113
        },
        {
          "output_type": "display_data",
          "data": {
            "text/plain": [
              "<Figure size 432x288 with 1 Axes>"
            ],
            "image/png": "[encoded data removed]"
          },
          "metadata": {
            "needs_background": "light"
          }
        }
      ],
      "metadata": {
        "scrolled": true,
        "id": "_DnnrNqjV_Lm",
        "colab": {
          "base_uri": "https://localhost:8080/",
          "height": 282
        },
        "outputId": "4682174b-f1a7-4a4b-d928-f287296ddeb3"
      }
    },
    {
      "cell_type": "markdown",
      "source": [
        "# **2. Data Pocessing**"
      ],
      "metadata": {
        "id": "FgdRawLQTd3C"
      }
    },
    {
      "cell_type": "markdown",
      "source": [
        "Now that we have visualized our data, let is work with it. Firs to divide them to imput and output."
      ],
      "metadata": {
        "id": "ixFT9WFtV_Ln"
      }
    },
    {
      "cell_type": "code",
      "execution_count": 114,
      "source": [
        "# Converting the Dataset to a Numpy array\n",
        "M = data.values\n",
        "X = M[ : ,:-1] # Matriz M without the last column\n",
        "y = M[ : , -1].astype(int) # The last column of M\n",
        "y"
      ],
      "outputs": [
        {
          "output_type": "execute_result",
          "data": {
            "text/plain": [
              "array([0, 0, 0, ..., 4, 4, 4])"
            ]
          },
          "metadata": {},
          "execution_count": 114
        }
      ],
      "metadata": {
        "id": "_tCkbcq6V_Ln",
        "colab": {
          "base_uri": "https://localhost:8080/"
        },
        "outputId": "80f424f3-a44d-4330-955a-ec10f7d0e7ac"
      }
    },
    {
      "cell_type": "markdown",
      "source": [
        "Arrays are created with the indices of the examples that belong to each category. can be used [np.argwhere](https://docs.scipy.org/doc/numpy/reference/generated/numpy.argwhere.html) and [np.flatten](https://numpy.org/doc/stable/reference/generated/numpy.ndarray.flatten.html) "
      ],
      "metadata": {
        "id": "4a96vrXnV_Lo"
      }
    },
    {
      "cell_type": "code",
      "execution_count": 115,
      "source": [
        "C0 = np.argwhere(y == 0).flatten()\n",
        "C1 = np.argwhere(y == 1).flatten()\n",
        "C2 = np.argwhere(y == 2).flatten()\n",
        "C3 = np.argwhere(y == 3).flatten()\n",
        "C4 = np.argwhere(y == 4).flatten()\n",
        "C4"
      ],
      "outputs": [
        {
          "output_type": "execute_result",
          "data": {
            "text/plain": [
              "array([81123, 81124, 81125, ..., 87551, 87552, 87553])"
            ]
          },
          "metadata": {},
          "execution_count": 115
        }
      ],
      "metadata": {
        "id": "Ix4-bI7EV_Lo",
        "colab": {
          "base_uri": "https://localhost:8080/"
        },
        "outputId": "0b692346-74f4-4724-d288-12a20cdd9307"
      }
    },
    {
      "cell_type": "code",
      "execution_count": 116,
      "source": [
        "# count how many examples we have of each category\n",
        "u = {'N': C0, 'S': C1, 'V': C2, 'F': C3, 'Q': C4}\n",
        "www = []\n",
        "for k in u:\n",
        "    print('Hay {} muestras de la categoría {}'.format(len(u[k]), k))\n",
        "    www.append(len(u[k]))"
      ],
      "outputs": [
        {
          "output_type": "stream",
          "name": "stdout",
          "text": [
            "Hay 72471 muestras de la categoría N\n",
            "Hay 2223 muestras de la categoría S\n",
            "Hay 5788 muestras de la categoría V\n",
            "Hay 641 muestras de la categoría F\n",
            "Hay 6431 muestras de la categoría Q\n"
          ]
        }
      ],
      "metadata": {
        "scrolled": true,
        "id": "H3yfgDa2V_Lp",
        "colab": {
          "base_uri": "https://localhost:8080/"
        },
        "outputId": "d2f57290-968f-458c-b091-837537b4deaf"
      }
    },
    {
      "cell_type": "code",
      "source": [
        "www"
      ],
      "metadata": {
        "colab": {
          "base_uri": "https://localhost:8080/"
        },
        "id": "74D1deidXhko",
        "outputId": "12a9782a-4d8a-4137-d1d9-112f13c66601"
      },
      "execution_count": 117,
      "outputs": [
        {
          "output_type": "execute_result",
          "data": {
            "text/plain": [
              "[72471, 2223, 5788, 641, 6431]"
            ]
          },
          "metadata": {},
          "execution_count": 117
        }
      ]
    },
    {
      "cell_type": "markdown",
      "source": [
        "To better see how many of each type we have, we are going to make a bar graphand a plot [plt.bar](https://matplotlib.org/3.1.1/api/_as_gen/matplotlib.pyplot.bar.html)"
      ],
      "metadata": {
        "id": "Kuysc91TWMVS"
      }
    },
    {
      "cell_type": "code",
      "execution_count": 118,
      "source": [
        "labels = list(u.keys())\n",
        "plt.bar(labels, www)"
      ],
      "outputs": [
        {
          "output_type": "execute_result",
          "data": {
            "text/plain": [
              "<BarContainer object of 5 artists>"
            ]
          },
          "metadata": {},
          "execution_count": 118
        },
        {
          "output_type": "display_data",
          "data": {
            "text/plain": [
              "<Figure size 432x288 with 1 Axes>"
            ],
            "image/png": "[encoded data removed]"
          },
          "metadata": {
            "needs_background": "light"
          }
        }
      ],
      "metadata": {
        "id": "alKD_kC6V_Lq",
        "colab": {
          "base_uri": "https://localhost:8080/",
          "height": 282
        },
        "outputId": "523e0f94-11b0-42e5-c735-2f0e292f1d56"
      }
    },
    {
      "cell_type": "markdown",
      "source": [
        "We can print an electrocardiogram of each type"
      ],
      "metadata": {
        "id": "EbQAOFIdXyVW"
      }
    },
    {
      "cell_type": "code",
      "execution_count": 119,
      "source": [
        "plt.figure(figsize=(15,8))\n",
        "plt.plot(M[C0[20]], label='N')\n",
        "plt.plot(M[C1[20]], label='S')\n",
        "plt.plot(M[C2[20]], label='V')\n",
        "plt.legend()\n",
        "plt.title('Different classes')"
      ],
      "outputs": [
        {
          "output_type": "execute_result",
          "data": {
            "text/plain": [
              "Text(0.5, 1.0, 'Different classes')"
            ]
          },
          "metadata": {},
          "execution_count": 119
        },
        {
          "output_type": "display_data",
          "data": {
            "text/plain": [
              "<Figure size 1080x576 with 1 Axes>"
            ],
            "image/png": "[encoded data removed]"
          },
          "metadata": {
            "needs_background": "light"
          }
        }
      ],
      "metadata": {
        "id": "OsvWGR4rV_Lr",
        "colab": {
          "base_uri": "https://localhost:8080/",
          "height": 516
        },
        "outputId": "6d6f54e2-66a2-4f43-b4e8-c17c3260ec10"
      }
    },
    {
      "cell_type": "markdown",
      "source": [
        "## Data preparation"
      ],
      "metadata": {
        "id": "3NwSmZ--V_Lr"
      }
    },
    {
      "cell_type": "markdown",
      "source": [
        "The best way to deal with categories is to use a OneHotEncoding.\n",
        "\n",
        "For each column in the original Y, five have been created, and that the values of the original and the OneHotEncoding correspond to each other."
      ],
      "metadata": {
        "id": "hY5i0i4VV_Lr"
      }
    },
    {
      "cell_type": "code",
      "execution_count": 120,
      "source": [
        "from keras.utils.np_utils import to_categorical\n",
        "y_Hot = to_categorical(y, num_classes = 5)"
      ],
      "outputs": [],
      "metadata": {
        "id": "TNFxtVMBV_Lr"
      }
    },
    {
      "cell_type": "code",
      "execution_count": 121,
      "source": [
        "print(y.shape)\n",
        "print(y_Hot.shape)\n",
        "print(y[20000])\n",
        "print(y_Hot[20000])"
      ],
      "outputs": [
        {
          "output_type": "stream",
          "name": "stdout",
          "text": [
            "(87554,)\n",
            "(87554, 5)\n",
            "0\n",
            "[1. 0. 0. 0. 0.]\n"
          ]
        }
      ],
      "metadata": {
        "id": "zsvo-ZKyV_Ls",
        "colab": {
          "base_uri": "https://localhost:8080/"
        },
        "outputId": "2d2ee2f8-68b9-486b-e10d-d33902a9b2e4"
      }
    },
    {
      "cell_type": "markdown",
      "source": [
        "We can mix X and Y randomly using [shuffle](https://scikit-learn.org/stable/modules/generated/sklearn.utils.shuffle.html)."
      ],
      "metadata": {
        "id": "cHuvXFVHV_Ls"
      }
    },
    {
      "cell_type": "code",
      "execution_count": 122,
      "source": [
        "import sklearn\n",
        "X_shuffled, y_shuffled = sklearn.utils.shuffle(X, y_Hot)"
      ],
      "outputs": [],
      "metadata": {
        "id": "jIgWe_xrV_Ls"
      }
    },
    {
      "cell_type": "code",
      "execution_count": 123,
      "source": [
        "assert X_shuffled.shape == X.shape\n",
        "assert y_shuffled.shape == y_Hot.shape"
      ],
      "outputs": [],
      "metadata": {
        "id": "RgHgsWZkV_Ls"
      }
    },
    {
      "cell_type": "code",
      "execution_count": 124,
      "source": [
        "# We free memory\n",
        "del X\n",
        "del y_Hot"
      ],
      "outputs": [],
      "metadata": {
        "id": "uwT34C0SV_Lt"
      }
    },
    {
      "cell_type": "markdown",
      "source": [
        "To be able to enter the data in the model, we need each information point to be only inside the array (we cannot give an array as a value). Before we had the data structured like this:\n",
        "\n",
        "$ X = [[a_1,a_2,a_3...,a_n],[b_1,b_2,b_3...,b_n]...[z_1,z_2,z_3,z_n] $\n",
        "\n",
        "In order to use them we need to isolate each of these values, without eliminating their grouping for examples. Namely:\n",
        "\n",
        "$ X = [[[a_1],[a_2],[a_3]...,[a_n]],[[b_1],[b_2],[b_3]...,[b_n]]...[[z_1],[z_2],[z_3],[z_n]] $\n",
        "\n",
        "Use [expand_dims](https://docs.scipy.org/doc/numpy/reference/generated/numpy.expand_dims.html) de numpy."
      ],
      "metadata": {
        "id": "sZBDXRfVV_Lt"
      }
    },
    {
      "cell_type": "code",
      "source": [
        "X_shuffled"
      ],
      "metadata": {
        "colab": {
          "base_uri": "https://localhost:8080/"
        },
        "id": "q_SM7eZtdExH",
        "outputId": "ed182135-eeef-4385-8875-1eb951b9145a"
      },
      "execution_count": 125,
      "outputs": [
        {
          "output_type": "execute_result",
          "data": {
            "text/plain": [
              "array([[0.98121083, 0.91022962, 0.58037579, ..., 0.        , 0.        ,\n",
              "        0.        ],\n",
              "       [0.93700784, 0.83779526, 0.23307087, ..., 0.        , 0.        ,\n",
              "        0.        ],\n",
              "       [0.55839413, 0.48175183, 0.21897811, ..., 0.        , 0.        ,\n",
              "        0.        ],\n",
              "       ...,\n",
              "       [1.        , 0.85803759, 0.59707725, ..., 0.        , 0.        ,\n",
              "        0.        ],\n",
              "       [1.        , 0.84025562, 0.4888179 , ..., 0.        , 0.        ,\n",
              "        0.        ],\n",
              "       [1.        , 0.81860465, 0.48837209, ..., 0.        , 0.        ,\n",
              "        0.        ]])"
            ]
          },
          "metadata": {},
          "execution_count": 125
        }
      ]
    },
    {
      "cell_type": "code",
      "execution_count": 126,
      "source": [
        "X = np.expand_dims(X_shuffled, 2)\n",
        "X"
      ],
      "outputs": [
        {
          "output_type": "execute_result",
          "data": {
            "text/plain": [
              "array([[[0.98121083],\n",
              "        [0.91022962],\n",
              "        [0.58037579],\n",
              "        ...,\n",
              "        [0.        ],\n",
              "        [0.        ],\n",
              "        [0.        ]],\n",
              "\n",
              "       [[0.93700784],\n",
              "        [0.83779526],\n",
              "        [0.23307087],\n",
              "        ...,\n",
              "        [0.        ],\n",
              "        [0.        ],\n",
              "        [0.        ]],\n",
              "\n",
              "       [[0.55839413],\n",
              "        [0.48175183],\n",
              "        [0.21897811],\n",
              "        ...,\n",
              "        [0.        ],\n",
              "        [0.        ],\n",
              "        [0.        ]],\n",
              "\n",
              "       ...,\n",
              "\n",
              "       [[1.        ],\n",
              "        [0.85803759],\n",
              "        [0.59707725],\n",
              "        ...,\n",
              "        [0.        ],\n",
              "        [0.        ],\n",
              "        [0.        ]],\n",
              "\n",
              "       [[1.        ],\n",
              "        [0.84025562],\n",
              "        [0.4888179 ],\n",
              "        ...,\n",
              "        [0.        ],\n",
              "        [0.        ],\n",
              "        [0.        ]],\n",
              "\n",
              "       [[1.        ],\n",
              "        [0.81860465],\n",
              "        [0.48837209],\n",
              "        ...,\n",
              "        [0.        ],\n",
              "        [0.        ],\n",
              "        [0.        ]]])"
            ]
          },
          "metadata": {},
          "execution_count": 126
        }
      ],
      "metadata": {
        "id": "JE69BdaSV_Lt",
        "colab": {
          "base_uri": "https://localhost:8080/"
        },
        "outputId": "4cfa981d-9d29-4d69-ae99-3aff1e5b24ae"
      }
    },
    {
      "cell_type": "markdown",
      "source": [
        "We do a train_test_split and everything would be ready to implement the model."
      ],
      "metadata": {
        "id": "6zO7Ufj6V_Lu"
      }
    },
    {
      "cell_type": "code",
      "execution_count": 127,
      "source": [
        "from sklearn.model_selection import train_test_split\n",
        "X_train, X_test, y_train, y_test = train_test_split(X, y_shuffled, test_size=0.2)"
      ],
      "outputs": [],
      "metadata": {
        "id": "WkgScJkzV_Lu"
      }
    },
    {
      "cell_type": "markdown",
      "source": [
        "# **3. AI Model** "
      ],
      "metadata": {
        "id": "aHjkIBI9V_Lu"
      }
    },
    {
      "cell_type": "code",
      "execution_count": 128,
      "source": [
        "from sklearn import model_selection\n",
        "from sklearn.metrics import confusion_matrix\n",
        "\n",
        "import tensorflow\n",
        "import keras\n",
        "from keras.layers import Dense, Dropout, Activation, Flatten, Conv1D, Conv2D, MaxPooling1D, MaxPooling2D, Lambda, MaxPool2D, BatchNormalization\n",
        "from keras.utils import np_utils\n",
        "\n",
        "from keras import models, layers, optimizers\n",
        "from sklearn.model_selection import train_test_split\n",
        "from sklearn.metrics import confusion_matrix, accuracy_score\n",
        "from sklearn.utils import class_weight\n",
        "\n",
        "from tensorflow.keras.optimizers import SGD, RMSprop, Adam, Adagrad, Adadelta, RMSprop\n",
        "from keras.models import Sequential, model_from_json\n",
        "from keras.preprocessing.image import ImageDataGenerator\n",
        "from keras.callbacks import ReduceLROnPlateau, ModelCheckpoint\n",
        "from keras import backend as K\n",
        "from keras.applications.vgg16 import VGG16\n",
        "from keras.models import Model\n",
        "\n",
        "from sklearn.metrics import accuracy_score, classification_report, confusion_matrix, label_ranking_average_precision_score, label_ranking_loss, coverage_error \n",
        "import itertools"
      ],
      "outputs": [],
      "metadata": {
        "id": "C6KDxZd_V_Lv"
      }
    },
    {
      "cell_type": "markdown",
      "source": [
        "Define:\n",
        "- Input length.\n",
        "- Neurons in the last layer\n",
        "- Batch_size for training with SGD."
      ],
      "metadata": {
        "id": "KHNyScqwV_Lv"
      }
    },
    {
      "cell_type": "code",
      "execution_count": 129,
      "source": [
        "signal_length = 187\n",
        "batch_size = 256\n",
        "n_classes = 5"
      ],
      "outputs": [],
      "metadata": {
        "id": "XLpMDLEEV_Lv"
      }
    },
    {
      "cell_type": "markdown",
      "source": [
        "## Model"
      ],
      "metadata": {
        "id": "ovo4ycQrnL3j"
      }
    },
    {
      "cell_type": "code",
      "execution_count": 130,
      "source": [
        "model = Sequential()\n",
        "\n",
        "model.add(Conv1D(32, kernel_size=(5), input_shape=(signal_length, 1)))\n",
        "model.add(Dropout(0.5))\n",
        "model.add(BatchNormalization())\n",
        "model.add(Activation('relu'))\n",
        "\n",
        "model.add(Conv1D(32, (4)))\n",
        "model.add(Dropout(0.5))\n",
        "model.add(BatchNormalization())\n",
        "model.add(Activation('relu'))\n",
        "model.add(MaxPooling1D(pool_size=(2)))\n",
        "\n",
        "model.add(Conv1D(32, (4)))\n",
        "model.add(Dropout(0.5))\n",
        "model.add(BatchNormalization())\n",
        "model.add(Activation('relu'))\n",
        "model.add(MaxPooling1D(pool_size=(2)))\n",
        "\n",
        "model.add(Conv1D(32, (4)))\n",
        "model.add(Dropout(0.5))\n",
        "model.add(BatchNormalization())\n",
        "model.add(Activation('relu'))\n",
        "model.add(MaxPooling1D(pool_size=(2)))\n",
        "\n",
        "model.add(Flatten())\n",
        "\n",
        "model.add(Dense(128, activation='sigmoid'))\n",
        "model.add(Dropout(0.5))\n",
        "model.add(Dense(n_classes, activation='softmax'))\n",
        "\n",
        "model.summary()\n",
        "\n",
        "model.compile(loss=keras.losses.categorical_crossentropy, \n",
        "              optimizer=tensorflow.keras.optimizers.Adadelta(),\n",
        "              metrics=['accuracy'])\n"
      ],
      "outputs": [
        {
          "output_type": "stream",
          "name": "stdout",
          "text": [
            "Model: \"sequential_3\"\n",
            "_________________________________________________________________\n",
            " Layer (type)                Output Shape              Param #   \n",
            "=================================================================\n",
            " conv1d_12 (Conv1D)          (None, 183, 32)           192       \n",
            "                                                                 \n",
            " dropout_15 (Dropout)        (None, 183, 32)           0         \n",
            "                                                                 \n",
            " batch_normalization_12 (Bat  (None, 183, 32)          128       \n",
            " chNormalization)                                                \n",
            "                                                                 \n",
            " activation_12 (Activation)  (None, 183, 32)           0         \n",
            "                                                                 \n",
            " conv1d_13 (Conv1D)          (None, 180, 32)           4128      \n",
            "                                                                 \n",
            " dropout_16 (Dropout)        (None, 180, 32)           0         \n",
            "                                                                 \n",
            " batch_normalization_13 (Bat  (None, 180, 32)          128       \n",
            " chNormalization)                                                \n",
            "                                                                 \n",
            " activation_13 (Activation)  (None, 180, 32)           0         \n",
            "                                                                 \n",
            " max_pooling1d_9 (MaxPooling  (None, 90, 32)           0         \n",
            " 1D)                                                             \n",
            "                                                                 \n",
            " conv1d_14 (Conv1D)          (None, 87, 32)            4128      \n",
            "                                                                 \n",
            " dropout_17 (Dropout)        (None, 87, 32)            0         \n",
            "                                                                 \n",
            " batch_normalization_14 (Bat  (None, 87, 32)           128       \n",
            " chNormalization)                                                \n",
            "                                                                 \n",
            " activation_14 (Activation)  (None, 87, 32)            0         \n",
            "                                                                 \n",
            " max_pooling1d_10 (MaxPoolin  (None, 43, 32)           0         \n",
            " g1D)                                                            \n",
            "                                                                 \n",
            " conv1d_15 (Conv1D)          (None, 40, 32)            4128      \n",
            "                                                                 \n",
            " dropout_18 (Dropout)        (None, 40, 32)            0         \n",
            "                                                                 \n",
            " batch_normalization_15 (Bat  (None, 40, 32)           128       \n",
            " chNormalization)                                                \n",
            "                                                                 \n",
            " activation_15 (Activation)  (None, 40, 32)            0         \n",
            "                                                                 \n",
            " max_pooling1d_11 (MaxPoolin  (None, 20, 32)           0         \n",
            " g1D)                                                            \n",
            "                                                                 \n",
            " flatten_3 (Flatten)         (None, 640)               0         \n",
            "                                                                 \n",
            " dense_6 (Dense)             (None, 128)               82048     \n",
            "                                                                 \n",
            " dropout_19 (Dropout)        (None, 128)               0         \n",
            "                                                                 \n",
            " dense_7 (Dense)             (None, 5)                 645       \n",
            "                                                                 \n",
            "=================================================================\n",
            "Total params: 95,781\n",
            "Trainable params: 95,525\n",
            "Non-trainable params: 256\n",
            "_________________________________________________________________\n"
          ]
        }
      ],
      "metadata": {
        "id": "Suml0sccV_Lw",
        "colab": {
          "base_uri": "https://localhost:8080/"
        },
        "outputId": "8edc8338-4a84-45b3-bf1d-ff2a118787c1"
      }
    },
    {
      "cell_type": "markdown",
      "source": [
        "To compile the model, .compile() is called. Here we specify which loss function we use, which optimizer and which metrics we want to keep for each epoch."
      ],
      "metadata": {
        "id": "6_rXrhxQV_Lw"
      }
    },
    {
      "cell_type": "code",
      "execution_count": 131,
      "source": [
        "model.compile(loss='categorical_crossentropy', optimizer=Adam(), metrics=['accuracy'])"
      ],
      "outputs": [],
      "metadata": {
        "id": "A9TREcn6V_Lw"
      }
    },
    {
      "cell_type": "markdown",
      "source": [
        "We train the model a number of epochs and with a specified batch_size. This returns us a history object with the accuracy of all the training phases."
      ],
      "metadata": {
        "id": "sxAJESPVV_Lw"
      }
    },
    {
      "cell_type": "markdown",
      "source": [
        "## Training"
      ],
      "metadata": {
        "id": "iCRT7pVwpjRI"
      }
    },
    {
      "cell_type": "code",
      "execution_count": 132,
      "source": [
        "history = model.fit(X_train, y_train,\n",
        "                    epochs=75, \n",
        "                    batch_size=batch_size, \n",
        "                    verbose=1, \n",
        "                    validation_data=(X_test, y_test))"
      ],
      "outputs": [
        {
          "output_type": "stream",
          "name": "stdout",
          "text": [
            "Epoch 1/75\n",
            "274/274 [==============================] - 5s 12ms/step - loss: 0.4623 - accuracy: 0.8671 - val_loss: 0.8270 - val_accuracy: 0.8314\n",
            "Epoch 2/75\n",
            "274/274 [==============================] - 3s 10ms/step - loss: 0.2799 - accuracy: 0.9233 - val_loss: 0.5228 - val_accuracy: 0.8757\n",
            "Epoch 3/75\n",
            "274/274 [==============================] - 3s 11ms/step - loss: 0.2373 - accuracy: 0.9353 - val_loss: 0.2526 - val_accuracy: 0.9398\n",
            "Epoch 4/75\n",
            "274/274 [==============================] - 3s 10ms/step - loss: 0.2097 - accuracy: 0.9405 - val_loss: 0.2173 - val_accuracy: 0.9407\n",
            "Epoch 5/75\n",
            "274/274 [==============================] - 3s 10ms/step - loss: 0.1953 - accuracy: 0.9457 - val_loss: 0.1981 - val_accuracy: 0.9447\n",
            "Epoch 6/75\n",
            "274/274 [==============================] - 3s 11ms/step - loss: 0.1817 - accuracy: 0.9491 - val_loss: 0.1747 - val_accuracy: 0.9503\n",
            "Epoch 7/75\n",
            "274/274 [==============================] - 3s 11ms/step - loss: 0.1737 - accuracy: 0.9508 - val_loss: 0.1555 - val_accuracy: 0.9548\n",
            "Epoch 8/75\n",
            "274/274 [==============================] - 3s 11ms/step - loss: 0.1661 - accuracy: 0.9536 - val_loss: 0.1533 - val_accuracy: 0.9551\n",
            "Epoch 9/75\n",
            "274/274 [==============================] - 3s 10ms/step - loss: 0.1575 - accuracy: 0.9548 - val_loss: 0.1460 - val_accuracy: 0.9549\n",
            "Epoch 10/75\n",
            "274/274 [==============================] - 3s 11ms/step - loss: 0.1538 - accuracy: 0.9564 - val_loss: 0.1542 - val_accuracy: 0.9517\n",
            "Epoch 11/75\n",
            "274/274 [==============================] - 3s 10ms/step - loss: 0.1481 - accuracy: 0.9574 - val_loss: 0.1321 - val_accuracy: 0.9591\n",
            "Epoch 12/75\n",
            "274/274 [==============================] - 3s 11ms/step - loss: 0.1426 - accuracy: 0.9593 - val_loss: 0.1330 - val_accuracy: 0.9599\n",
            "Epoch 13/75\n",
            "274/274 [==============================] - 3s 10ms/step - loss: 0.1394 - accuracy: 0.9602 - val_loss: 0.1389 - val_accuracy: 0.9583\n",
            "Epoch 14/75\n",
            "274/274 [==============================] - 3s 10ms/step - loss: 0.1354 - accuracy: 0.9615 - val_loss: 0.1230 - val_accuracy: 0.9629\n",
            "Epoch 15/75\n",
            "274/274 [==============================] - 3s 10ms/step - loss: 0.1331 - accuracy: 0.9621 - val_loss: 0.1311 - val_accuracy: 0.9589\n",
            "Epoch 16/75\n",
            "274/274 [==============================] - 3s 11ms/step - loss: 0.1320 - accuracy: 0.9623 - val_loss: 0.1134 - val_accuracy: 0.9655\n",
            "Epoch 17/75\n",
            "274/274 [==============================] - 3s 11ms/step - loss: 0.1297 - accuracy: 0.9628 - val_loss: 0.1104 - val_accuracy: 0.9675\n",
            "Epoch 18/75\n",
            "274/274 [==============================] - 3s 11ms/step - loss: 0.1254 - accuracy: 0.9641 - val_loss: 0.1167 - val_accuracy: 0.9642\n",
            "Epoch 19/75\n",
            "274/274 [==============================] - 3s 10ms/step - loss: 0.1252 - accuracy: 0.9641 - val_loss: 0.1103 - val_accuracy: 0.9671\n",
            "Epoch 20/75\n",
            "274/274 [==============================] - 3s 10ms/step - loss: 0.1238 - accuracy: 0.9651 - val_loss: 0.1130 - val_accuracy: 0.9647\n",
            "Epoch 21/75\n",
            "274/274 [==============================] - 3s 11ms/step - loss: 0.1195 - accuracy: 0.9652 - val_loss: 0.1113 - val_accuracy: 0.9660\n",
            "Epoch 22/75\n",
            "274/274 [==============================] - 3s 11ms/step - loss: 0.1161 - accuracy: 0.9666 - val_loss: 0.1106 - val_accuracy: 0.9653\n",
            "Epoch 23/75\n",
            "274/274 [==============================] - 3s 10ms/step - loss: 0.1178 - accuracy: 0.9664 - val_loss: 0.1071 - val_accuracy: 0.9667\n",
            "Epoch 24/75\n",
            "274/274 [==============================] - 3s 11ms/step - loss: 0.1159 - accuracy: 0.9671 - val_loss: 0.0992 - val_accuracy: 0.9700\n",
            "Epoch 25/75\n",
            "274/274 [==============================] - 3s 10ms/step - loss: 0.1155 - accuracy: 0.9667 - val_loss: 0.1071 - val_accuracy: 0.9677\n",
            "Epoch 26/75\n",
            "274/274 [==============================] - 3s 10ms/step - loss: 0.1142 - accuracy: 0.9679 - val_loss: 0.1076 - val_accuracy: 0.9684\n",
            "Epoch 27/75\n",
            "274/274 [==============================] - 3s 11ms/step - loss: 0.1119 - accuracy: 0.9683 - val_loss: 0.0991 - val_accuracy: 0.9698\n",
            "Epoch 28/75\n",
            "274/274 [==============================] - 3s 10ms/step - loss: 0.1115 - accuracy: 0.9678 - val_loss: 0.1150 - val_accuracy: 0.9652\n",
            "Epoch 29/75\n",
            "274/274 [==============================] - 3s 11ms/step - loss: 0.1094 - accuracy: 0.9687 - val_loss: 0.1063 - val_accuracy: 0.9672\n",
            "Epoch 30/75\n",
            "274/274 [==============================] - 3s 11ms/step - loss: 0.1075 - accuracy: 0.9694 - val_loss: 0.1240 - val_accuracy: 0.9628\n",
            "Epoch 31/75\n",
            "274/274 [==============================] - 3s 11ms/step - loss: 0.1080 - accuracy: 0.9692 - val_loss: 0.1083 - val_accuracy: 0.9676\n",
            "Epoch 32/75\n",
            "274/274 [==============================] - 3s 11ms/step - loss: 0.1085 - accuracy: 0.9690 - val_loss: 0.1105 - val_accuracy: 0.9672\n",
            "Epoch 33/75\n",
            "274/274 [==============================] - 3s 11ms/step - loss: 0.1063 - accuracy: 0.9692 - val_loss: 0.0997 - val_accuracy: 0.9704\n",
            "Epoch 34/75\n",
            "274/274 [==============================] - 3s 11ms/step - loss: 0.1063 - accuracy: 0.9696 - val_loss: 0.0967 - val_accuracy: 0.9708\n",
            "Epoch 35/75\n",
            "274/274 [==============================] - 3s 11ms/step - loss: 0.1045 - accuracy: 0.9700 - val_loss: 0.1157 - val_accuracy: 0.9642\n",
            "Epoch 36/75\n",
            "274/274 [==============================] - 3s 11ms/step - loss: 0.1047 - accuracy: 0.9694 - val_loss: 0.1118 - val_accuracy: 0.9656\n",
            "Epoch 37/75\n",
            "274/274 [==============================] - 3s 11ms/step - loss: 0.1014 - accuracy: 0.9705 - val_loss: 0.0998 - val_accuracy: 0.9703\n",
            "Epoch 38/75\n",
            "274/274 [==============================] - 3s 11ms/step - loss: 0.1038 - accuracy: 0.9701 - val_loss: 0.1002 - val_accuracy: 0.9693\n",
            "Epoch 39/75\n",
            "274/274 [==============================] - 3s 11ms/step - loss: 0.1014 - accuracy: 0.9710 - val_loss: 0.1070 - val_accuracy: 0.9674\n",
            "Epoch 40/75\n",
            "274/274 [==============================] - 3s 11ms/step - loss: 0.1016 - accuracy: 0.9708 - val_loss: 0.1077 - val_accuracy: 0.9671\n",
            "Epoch 41/75\n",
            "274/274 [==============================] - 3s 11ms/step - loss: 0.1014 - accuracy: 0.9713 - val_loss: 0.1015 - val_accuracy: 0.9693\n",
            "Epoch 42/75\n",
            "274/274 [==============================] - 3s 11ms/step - loss: 0.0994 - accuracy: 0.9718 - val_loss: 0.0967 - val_accuracy: 0.9720\n",
            "Epoch 43/75\n",
            "274/274 [==============================] - 3s 11ms/step - loss: 0.0983 - accuracy: 0.9712 - val_loss: 0.1051 - val_accuracy: 0.9683\n",
            "Epoch 44/75\n",
            "274/274 [==============================] - 3s 11ms/step - loss: 0.1006 - accuracy: 0.9706 - val_loss: 0.1130 - val_accuracy: 0.9668\n",
            "Epoch 45/75\n",
            "274/274 [==============================] - 3s 11ms/step - loss: 0.0996 - accuracy: 0.9712 - val_loss: 0.1041 - val_accuracy: 0.9692\n",
            "Epoch 46/75\n",
            "274/274 [==============================] - 3s 11ms/step - loss: 0.0982 - accuracy: 0.9717 - val_loss: 0.0979 - val_accuracy: 0.9709\n",
            "Epoch 47/75\n",
            "274/274 [==============================] - 3s 11ms/step - loss: 0.0962 - accuracy: 0.9718 - val_loss: 0.1130 - val_accuracy: 0.9651\n",
            "Epoch 48/75\n",
            "274/274 [==============================] - 3s 10ms/step - loss: 0.0963 - accuracy: 0.9723 - val_loss: 0.0906 - val_accuracy: 0.9732\n",
            "Epoch 49/75\n",
            "274/274 [==============================] - 3s 11ms/step - loss: 0.0956 - accuracy: 0.9725 - val_loss: 0.1218 - val_accuracy: 0.9652\n",
            "Epoch 50/75\n",
            "274/274 [==============================] - 3s 10ms/step - loss: 0.0957 - accuracy: 0.9725 - val_loss: 0.0998 - val_accuracy: 0.9709\n",
            "Epoch 51/75\n",
            "274/274 [==============================] - 3s 10ms/step - loss: 0.0962 - accuracy: 0.9720 - val_loss: 0.0948 - val_accuracy: 0.9718\n",
            "Epoch 52/75\n",
            "274/274 [==============================] - 3s 11ms/step - loss: 0.0930 - accuracy: 0.9725 - val_loss: 0.1114 - val_accuracy: 0.9661\n",
            "Epoch 53/75\n",
            "274/274 [==============================] - 3s 10ms/step - loss: 0.0953 - accuracy: 0.9724 - val_loss: 0.1000 - val_accuracy: 0.9708\n",
            "Epoch 54/75\n",
            "274/274 [==============================] - 3s 10ms/step - loss: 0.0932 - accuracy: 0.9735 - val_loss: 0.1224 - val_accuracy: 0.9626\n",
            "Epoch 55/75\n",
            "274/274 [==============================] - 3s 10ms/step - loss: 0.0943 - accuracy: 0.9725 - val_loss: 0.1059 - val_accuracy: 0.9686\n",
            "Epoch 56/75\n",
            "274/274 [==============================] - 3s 11ms/step - loss: 0.0942 - accuracy: 0.9726 - val_loss: 0.1275 - val_accuracy: 0.9616\n",
            "Epoch 57/75\n",
            "274/274 [==============================] - 3s 11ms/step - loss: 0.0931 - accuracy: 0.9727 - val_loss: 0.1101 - val_accuracy: 0.9670\n",
            "Epoch 58/75\n",
            "274/274 [==============================] - 3s 11ms/step - loss: 0.0923 - accuracy: 0.9732 - val_loss: 0.1127 - val_accuracy: 0.9660\n",
            "Epoch 59/75\n",
            "274/274 [==============================] - 3s 11ms/step - loss: 0.0912 - accuracy: 0.9734 - val_loss: 0.1172 - val_accuracy: 0.9657\n",
            "Epoch 60/75\n",
            "274/274 [==============================] - 3s 11ms/step - loss: 0.0908 - accuracy: 0.9739 - val_loss: 0.1303 - val_accuracy: 0.9605\n",
            "Epoch 61/75\n",
            "274/274 [==============================] - 3s 11ms/step - loss: 0.0914 - accuracy: 0.9733 - val_loss: 0.1020 - val_accuracy: 0.9695\n",
            "Epoch 62/75\n",
            "274/274 [==============================] - 3s 11ms/step - loss: 0.0927 - accuracy: 0.9731 - val_loss: 0.0970 - val_accuracy: 0.9716\n",
            "Epoch 63/75\n",
            "274/274 [==============================] - 3s 11ms/step - loss: 0.0918 - accuracy: 0.9741 - val_loss: 0.0975 - val_accuracy: 0.9714\n",
            "Epoch 64/75\n",
            "274/274 [==============================] - 3s 11ms/step - loss: 0.0906 - accuracy: 0.9736 - val_loss: 0.1053 - val_accuracy: 0.9685\n",
            "Epoch 65/75\n",
            "274/274 [==============================] - 3s 11ms/step - loss: 0.0905 - accuracy: 0.9731 - val_loss: 0.1123 - val_accuracy: 0.9658\n",
            "Epoch 66/75\n",
            "274/274 [==============================] - 3s 11ms/step - loss: 0.0907 - accuracy: 0.9738 - val_loss: 0.1019 - val_accuracy: 0.9684\n",
            "Epoch 67/75\n",
            "274/274 [==============================] - 3s 11ms/step - loss: 0.0893 - accuracy: 0.9744 - val_loss: 0.1032 - val_accuracy: 0.9688\n",
            "Epoch 68/75\n",
            "274/274 [==============================] - 3s 11ms/step - loss: 0.0891 - accuracy: 0.9734 - val_loss: 0.1082 - val_accuracy: 0.9675\n",
            "Epoch 69/75\n",
            "274/274 [==============================] - 3s 11ms/step - loss: 0.0885 - accuracy: 0.9737 - val_loss: 0.0992 - val_accuracy: 0.9696\n",
            "Epoch 70/75\n",
            "274/274 [==============================] - 3s 11ms/step - loss: 0.0901 - accuracy: 0.9734 - val_loss: 0.0967 - val_accuracy: 0.9709\n",
            "Epoch 71/75\n",
            "274/274 [==============================] - 3s 11ms/step - loss: 0.0866 - accuracy: 0.9745 - val_loss: 0.1159 - val_accuracy: 0.9657\n",
            "Epoch 72/75\n",
            "274/274 [==============================] - 3s 11ms/step - loss: 0.0879 - accuracy: 0.9747 - val_loss: 0.1087 - val_accuracy: 0.9680\n",
            "Epoch 73/75\n",
            "274/274 [==============================] - 3s 11ms/step - loss: 0.0872 - accuracy: 0.9749 - val_loss: 0.1080 - val_accuracy: 0.9687\n",
            "Epoch 74/75\n",
            "274/274 [==============================] - 3s 11ms/step - loss: 0.0880 - accuracy: 0.9742 - val_loss: 0.1065 - val_accuracy: 0.9686\n",
            "Epoch 75/75\n",
            "274/274 [==============================] - 3s 11ms/step - loss: 0.0861 - accuracy: 0.9748 - val_loss: 0.1000 - val_accuracy: 0.9708\n"
          ]
        }
      ],
      "metadata": {
        "id": "JBuU_kKEV_Lw",
        "colab": {
          "base_uri": "https://localhost:8080/"
        },
        "outputId": "21f6ac04-7c98-4440-cb49-d45d62bb26a2"
      }
    },
    {
      "cell_type": "markdown",
      "source": [
        "Access to the historical accuracy of the model (with the history attribute)"
      ],
      "metadata": {
        "id": "K7CBgIF1V_Lx"
      }
    },
    {
      "cell_type": "code",
      "execution_count": 133,
      "source": [
        "history.history"
      ],
      "outputs": [
        {
          "output_type": "execute_result",
          "data": {
            "text/plain": [
              "{'accuracy': [0.867095947265625,\n",
              "  0.9232757091522217,\n",
              "  0.9352540373802185,\n",
              "  0.9405079483985901,\n",
              "  0.9457333087921143,\n",
              "  0.949145495891571,\n",
              "  0.9507731199264526,\n",
              "  0.9535713791847229,\n",
              "  0.9548277258872986,\n",
              "  0.9564124941825867,\n",
              "  0.9573833346366882,\n",
              "  0.9593107104301453,\n",
              "  0.9601673483848572,\n",
              "  0.9615236520767212,\n",
              "  0.9620804190635681,\n",
              "  0.9622803330421448,\n",
              "  0.9627514481544495,\n",
              "  0.9640506505966187,\n",
              "  0.9640506505966187,\n",
              "  0.9651214480400085,\n",
              "  0.9652356505393982,\n",
              "  0.966649055480957,\n",
              "  0.9664492011070251,\n",
              "  0.9670630693435669,\n",
              "  0.9667490124702454,\n",
              "  0.9678911566734314,\n",
              "  0.9683337211608887,\n",
              "  0.9678055047988892,\n",
              "  0.9686620831489563,\n",
              "  0.9694045186042786,\n",
              "  0.9691903591156006,\n",
              "  0.96900475025177,\n",
              "  0.969218909740448,\n",
              "  0.9696043729782104,\n",
              "  0.9700326919555664,\n",
              "  0.9694187641143799,\n",
              "  0.9704895615577698,\n",
              "  0.9701326489448547,\n",
              "  0.9709892272949219,\n",
              "  0.9708322286605835,\n",
              "  0.9712747931480408,\n",
              "  0.9718173146247864,\n",
              "  0.971217691898346,\n",
              "  0.9706323146820068,\n",
              "  0.9711748361587524,\n",
              "  0.9717459082603455,\n",
              "  0.971788763999939,\n",
              "  0.9723312854766846,\n",
              "  0.9724883437156677,\n",
              "  0.972502589225769,\n",
              "  0.9720314741134644,\n",
              "  0.972502589225769,\n",
              "  0.9724454879760742,\n",
              "  0.9735162854194641,\n",
              "  0.9724597930908203,\n",
              "  0.9726454019546509,\n",
              "  0.972716748714447,\n",
              "  0.9731736183166504,\n",
              "  0.9733734726905823,\n",
              "  0.9739159941673279,\n",
              "  0.97328782081604,\n",
              "  0.9730594158172607,\n",
              "  0.974144458770752,\n",
              "  0.9735733866691589,\n",
              "  0.9731022119522095,\n",
              "  0.9738160967826843,\n",
              "  0.9744014143943787,\n",
              "  0.9734306335449219,\n",
              "  0.9736875891685486,\n",
              "  0.9734306335449219,\n",
              "  0.9744585752487183,\n",
              "  0.9746584296226501,\n",
              "  0.974858283996582,\n",
              "  0.9742015600204468,\n",
              "  0.9747726321220398],\n",
              " 'loss': [0.46229320764541626,\n",
              "  0.2798857092857361,\n",
              "  0.23729903995990753,\n",
              "  0.2096627950668335,\n",
              "  0.19528132677078247,\n",
              "  0.18167872726917267,\n",
              "  0.17370668053627014,\n",
              "  0.16613179445266724,\n",
              "  0.15748454630374908,\n",
              "  0.1537974625825882,\n",
              "  0.148103728890419,\n",
              "  0.14261044561862946,\n",
              "  0.13942301273345947,\n",
              "  0.1353866159915924,\n",
              "  0.1331361085176468,\n",
              "  0.13196994364261627,\n",
              "  0.12971797585487366,\n",
              "  0.1253529042005539,\n",
              "  0.12517185509204865,\n",
              "  0.12375283241271973,\n",
              "  0.11953957378864288,\n",
              "  0.11611593514680862,\n",
              "  0.11779404431581497,\n",
              "  0.11585399508476257,\n",
              "  0.11552069336175919,\n",
              "  0.11421593278646469,\n",
              "  0.11185426265001297,\n",
              "  0.11152777075767517,\n",
              "  0.10941745340824127,\n",
              "  0.10745269805192947,\n",
              "  0.10803090035915375,\n",
              "  0.10850115120410919,\n",
              "  0.10632609575986862,\n",
              "  0.1063196137547493,\n",
              "  0.10452201217412949,\n",
              "  0.10466660559177399,\n",
              "  0.1013745591044426,\n",
              "  0.1037590280175209,\n",
              "  0.10140494257211685,\n",
              "  0.10164202004671097,\n",
              "  0.10138137638568878,\n",
              "  0.09939183294773102,\n",
              "  0.09833255410194397,\n",
              "  0.1006348729133606,\n",
              "  0.09959471225738525,\n",
              "  0.09818799048662186,\n",
              "  0.09618305414915085,\n",
              "  0.0962659940123558,\n",
              "  0.09558959305286407,\n",
              "  0.09566345065832138,\n",
              "  0.09619227796792984,\n",
              "  0.09297744184732437,\n",
              "  0.09534786641597748,\n",
              "  0.09322437644004822,\n",
              "  0.09434613585472107,\n",
              "  0.09415674209594727,\n",
              "  0.09305880963802338,\n",
              "  0.09226638823747635,\n",
              "  0.09120050817728043,\n",
              "  0.09076002985239029,\n",
              "  0.09140703082084656,\n",
              "  0.09270632266998291,\n",
              "  0.09176964312791824,\n",
              "  0.09063400328159332,\n",
              "  0.0904858335852623,\n",
              "  0.09069482982158661,\n",
              "  0.08927736431360245,\n",
              "  0.08905255049467087,\n",
              "  0.08851220458745956,\n",
              "  0.09012799710035324,\n",
              "  0.08661581575870514,\n",
              "  0.0879192054271698,\n",
              "  0.08718279749155045,\n",
              "  0.08804751932621002,\n",
              "  0.08608955889940262],\n",
              " 'val_accuracy': [0.8313631415367126,\n",
              "  0.8756781220436096,\n",
              "  0.9397521615028381,\n",
              "  0.9406658411026001,\n",
              "  0.9446633458137512,\n",
              "  0.9503169655799866,\n",
              "  0.9548283815383911,\n",
              "  0.9550568461418152,\n",
              "  0.9549425840377808,\n",
              "  0.9516875147819519,\n",
              "  0.9590542912483215,\n",
              "  0.9599109292030334,\n",
              "  0.958311915397644,\n",
              "  0.962937593460083,\n",
              "  0.9589400887489319,\n",
              "  0.9655073881149292,\n",
              "  0.9675061106681824,\n",
              "  0.9641939401626587,\n",
              "  0.9671064019203186,\n",
              "  0.9647079110145569,\n",
              "  0.9660213589668274,\n",
              "  0.9653360843658447,\n",
              "  0.9667066335678101,\n",
              "  0.9700188636779785,\n",
              "  0.9676774740219116,\n",
              "  0.9683627486228943,\n",
              "  0.9697903990745544,\n",
              "  0.9651647806167603,\n",
              "  0.9672206044197083,\n",
              "  0.9628233909606934,\n",
              "  0.9676203727722168,\n",
              "  0.9671635031700134,\n",
              "  0.9704185724258423,\n",
              "  0.9708183407783508,\n",
              "  0.9641939401626587,\n",
              "  0.9656215906143188,\n",
              "  0.9703043699264526,\n",
              "  0.9692764282226562,\n",
              "  0.9673919081687927,\n",
              "  0.9671064019203186,\n",
              "  0.9692764282226562,\n",
              "  0.9719604849815369,\n",
              "  0.9683056473731995,\n",
              "  0.9667637348175049,\n",
              "  0.9691622257232666,\n",
              "  0.9709325432777405,\n",
              "  0.9650505185127258,\n",
              "  0.9732168316841125,\n",
              "  0.9651647806167603,\n",
              "  0.9709325432777405,\n",
              "  0.9717891812324524,\n",
              "  0.966135561466217,\n",
              "  0.9708183407783508,\n",
              "  0.9625949263572693,\n",
              "  0.9686482548713684,\n",
              "  0.9616241455078125,\n",
              "  0.9670493006706238,\n",
              "  0.9660213589668274,\n",
              "  0.9656786918640137,\n",
              "  0.9605391025543213,\n",
              "  0.9695048928260803,\n",
              "  0.9715607166290283,\n",
              "  0.9713894128799438,\n",
              "  0.9685340523719788,\n",
              "  0.9657929539680481,\n",
              "  0.9683627486228943,\n",
              "  0.9687625169754028,\n",
              "  0.9675061106681824,\n",
              "  0.96961909532547,\n",
              "  0.9708754420280457,\n",
              "  0.9657358527183533,\n",
              "  0.9680200815200806,\n",
              "  0.9687053561210632,\n",
              "  0.9685911536216736,\n",
              "  0.9708183407783508],\n",
              " 'val_loss': [0.8270189166069031,\n",
              "  0.5227862000465393,\n",
              "  0.2526012659072876,\n",
              "  0.21729522943496704,\n",
              "  0.19808535277843475,\n",
              "  0.1746717095375061,\n",
              "  0.15549211204051971,\n",
              "  0.1533222198486328,\n",
              "  0.14596574008464813,\n",
              "  0.15424305200576782,\n",
              "  0.13213279843330383,\n",
              "  0.1330365389585495,\n",
              "  0.13887785375118256,\n",
              "  0.1229923889040947,\n",
              "  0.13114580512046814,\n",
              "  0.1133732944726944,\n",
              "  0.11037641763687134,\n",
              "  0.11674413830041885,\n",
              "  0.11026734858751297,\n",
              "  0.11295382678508759,\n",
              "  0.11129077523946762,\n",
              "  0.11063819378614426,\n",
              "  0.10713600367307663,\n",
              "  0.09924992173910141,\n",
              "  0.10705377906560898,\n",
              "  0.10759121924638748,\n",
              "  0.0991356372833252,\n",
              "  0.11504343897104263,\n",
              "  0.10630887746810913,\n",
              "  0.12396056205034256,\n",
              "  0.10831086337566376,\n",
              "  0.11045771092176437,\n",
              "  0.09970809519290924,\n",
              "  0.09665558487176895,\n",
              "  0.11573928594589233,\n",
              "  0.1117558628320694,\n",
              "  0.09982612729072571,\n",
              "  0.10020490735769272,\n",
              "  0.10701687633991241,\n",
              "  0.1077365130186081,\n",
              "  0.10145436227321625,\n",
              "  0.09668292850255966,\n",
              "  0.10514479875564575,\n",
              "  0.11303478479385376,\n",
              "  0.10413021594285965,\n",
              "  0.09786707907915115,\n",
              "  0.11295235902070999,\n",
              "  0.0905928984284401,\n",
              "  0.12176229059696198,\n",
              "  0.09984753280878067,\n",
              "  0.09479933232069016,\n",
              "  0.11142316460609436,\n",
              "  0.09995034337043762,\n",
              "  0.1223640888929367,\n",
              "  0.10588355362415314,\n",
              "  0.12750503420829773,\n",
              "  0.11007227003574371,\n",
              "  0.11267776042222977,\n",
              "  0.117180235683918,\n",
              "  0.13032135367393494,\n",
              "  0.10199327021837234,\n",
              "  0.09702000021934509,\n",
              "  0.0975041538476944,\n",
              "  0.10533297061920166,\n",
              "  0.11229756474494934,\n",
              "  0.1018667072057724,\n",
              "  0.10317745804786682,\n",
              "  0.10815709829330444,\n",
              "  0.09924478083848953,\n",
              "  0.09665324538946152,\n",
              "  0.11587989330291748,\n",
              "  0.10866989195346832,\n",
              "  0.10796608775854111,\n",
              "  0.10647125542163849,\n",
              "  0.10001932084560394]}"
            ]
          },
          "metadata": {},
          "execution_count": 133
        }
      ],
      "metadata": {
        "id": "9Kv6HiLvV_Lx",
        "colab": {
          "base_uri": "https://localhost:8080/"
        },
        "outputId": "185e4882-b479-4477-c716-2bfe35d0a110"
      }
    },
    {
      "cell_type": "markdown",
      "source": [
        "To see if our model is overfitting, a graph is drawn with the accuracy in train and in validation using the data from the history object."
      ],
      "metadata": {
        "id": "FPjqTBljV_Lx"
      }
    },
    {
      "cell_type": "code",
      "execution_count": 145,
      "source": [
        "plt.plot(history.history['accuracy'], label='Accuracy')\n",
        "plt.plot(history.history['val_accuracy'], label='Validation Accuracy')\n",
        "plt.legend()"
      ],
      "outputs": [
        {
          "output_type": "execute_result",
          "data": {
            "text/plain": [
              "<matplotlib.legend.Legend at 0x7f394ed2db90>"
            ]
          },
          "metadata": {},
          "execution_count": 145
        },
        {
          "output_type": "display_data",
          "data": {
            "text/plain": [
              "<Figure size 432x288 with 1 Axes>"
            ],
            "image/png": "[encoded data removed]"
          },
          "metadata": {
            "needs_background": "light"
          }
        }
      ],
      "metadata": {
        "id": "q0WqDnYcV_Lx",
        "colab": {
          "base_uri": "https://localhost:8080/",
          "height": 284
        },
        "outputId": "12842aa3-e305-4d6f-de32-e01c040129da"
      }
    },
    {
      "cell_type": "markdown",
      "source": [
        "And the Loss"
      ],
      "metadata": {
        "id": "fNMoMNEOV_Lx"
      }
    },
    {
      "cell_type": "code",
      "execution_count": 144,
      "source": [
        "plt.plot(history.history['loss'], label='Loss')\n",
        "plt.plot(history.history['val_loss'], label='Validation Loss' )\n",
        "plt.legend()"
      ],
      "outputs": [
        {
          "output_type": "execute_result",
          "data": {
            "text/plain": [
              "<matplotlib.legend.Legend at 0x7f394eda1e50>"
            ]
          },
          "metadata": {},
          "execution_count": 144
        },
        {
          "output_type": "display_data",
          "data": {
            "text/plain": [
              "<Figure size 432x288 with 1 Axes>"
            ],
            "image/png": "[encoded data removed]"
          },
          "metadata": {
            "needs_background": "light"
          }
        }
      ],
      "metadata": {
        "id": "g92kOPM1V_Ly",
        "colab": {
          "base_uri": "https://localhost:8080/",
          "height": 282
        },
        "outputId": "52424380-f8b1-4acb-aaa9-a1251842c22f"
      }
    },
    {
      "cell_type": "markdown",
      "source": [
        "## Model Test\n",
        "\n"
      ],
      "metadata": {
        "id": "v_mxXZoeV_Ly"
      }
    },
    {
      "cell_type": "code",
      "execution_count": 152,
      "source": [
        "y_pred = model.predict(X_test, batch_size=1000)\n",
        "y_pred.shape"
      ],
      "outputs": [
        {
          "output_type": "execute_result",
          "data": {
            "text/plain": [
              "(17511, 5)"
            ]
          },
          "metadata": {},
          "execution_count": 152
        }
      ],
      "metadata": {
        "id": "-DGJQUNEV_Ly",
        "colab": {
          "base_uri": "https://localhost:8080/"
        },
        "outputId": "222517d9-c12a-468c-bbb9-d5273720dd15"
      }
    },
    {
      "cell_type": "code",
      "execution_count": 148,
      "source": [
        "print(y_test[299])\n",
        "plt.bar(range(n_classes), height=y_pred[4])"
      ],
      "outputs": [
        {
          "output_type": "stream",
          "name": "stdout",
          "text": [
            "[1. 0. 0. 0. 0.]\n"
          ]
        },
        {
          "output_type": "execute_result",
          "data": {
            "text/plain": [
              "<BarContainer object of 5 artists>"
            ]
          },
          "metadata": {},
          "execution_count": 148
        },
        {
          "output_type": "display_data",
          "data": {
            "text/plain": [
              "<Figure size 432x288 with 1 Axes>"
            ],
            "image/png": "[encoded data removed]"
          },
          "metadata": {
            "needs_background": "light"
          }
        }
      ],
      "metadata": {
        "id": "VHPB9_uHV_Lz",
        "colab": {
          "base_uri": "https://localhost:8080/",
          "height": 300
        },
        "outputId": "80a3bea1-9872-42f6-8b29-173bf21527fa"
      }
    },
    {
      "cell_type": "markdown",
      "source": [
        "This code snippet generates a model report, and the next a confusion matrix."
      ],
      "metadata": {
        "id": "jq61fPz5V_Lz"
      }
    },
    {
      "cell_type": "code",
      "execution_count": 149,
      "source": [
        "print(classification_report(y_test.argmax(axis=1), y_pred.argmax(axis=1)))"
      ],
      "outputs": [
        {
          "output_type": "stream",
          "name": "stdout",
          "text": [
            "              precision    recall  f1-score   support\n",
            "\n",
            "           0       0.97      1.00      0.98     14558\n",
            "           1       0.89      0.60      0.71       414\n",
            "           2       0.98      0.81      0.89      1145\n",
            "           3       0.77      0.66      0.71       136\n",
            "           4       0.98      0.96      0.97      1258\n",
            "\n",
            "    accuracy                           0.97     17511\n",
            "   macro avg       0.92      0.81      0.85     17511\n",
            "weighted avg       0.97      0.97      0.97     17511\n",
            "\n"
          ]
        }
      ],
      "metadata": {
        "id": "AX4r5a9qV_Lz",
        "colab": {
          "base_uri": "https://localhost:8080/"
        },
        "outputId": "16b81dd2-e84f-41af-c86f-26e27a3f718e"
      }
    },
    {
      "cell_type": "code",
      "execution_count": 150,
      "source": [
        "def plot_confusion_matrix(cm, classes,\n",
        "                          normalize=False,\n",
        "                          title='Confusion matrix',\n",
        "                          cmap=plt.cm.Blues):\n",
        "    \"\"\"\n",
        "    This function prints and plots the confusion matrix.\n",
        "    Normalization can be applied by setting `normalize=True`.\n",
        "    \"\"\"\n",
        "    if normalize:\n",
        "        cm = cm.astype('float') / cm.sum(axis=1)[:, np.newaxis]\n",
        "        print(\"Normalized confusion matrix\")\n",
        "    else:\n",
        "        print('Confusion matrix, without normalization')\n",
        "\n",
        "    plt.imshow(cm, interpolation='nearest', cmap=cmap)\n",
        "    plt.title(title)\n",
        "    plt.colorbar()\n",
        "    tick_marks = np.arange(len(classes))\n",
        "    plt.xticks(tick_marks, classes, rotation=45)\n",
        "    plt.yticks(tick_marks, classes)\n",
        "\n",
        "    fmt = '.2f' if normalize else 'd'\n",
        "    thresh = cm.max() / 2.\n",
        "    for i, j in itertools.product(range(cm.shape[0]), range(cm.shape[1])):\n",
        "        plt.text(j, i, format(cm[i, j], fmt),\n",
        "                 horizontalalignment=\"center\",\n",
        "                 color=\"white\" if cm[i, j] > thresh else \"black\")\n",
        "\n",
        "    plt.tight_layout()\n",
        "    plt.ylabel('True label')\n",
        "    plt.xlabel('Predicted label')\n",
        "\n",
        "# Compute confusion matrix\n",
        "cnf_matrix = confusion_matrix(y_test.argmax(axis=1), y_pred.argmax(axis=1))\n",
        "np.set_printoptions(precision=2)\n",
        "\n",
        "# Plot non-normalized confusion matrix\n",
        "plt.figure(figsize=(10, 10))\n",
        "plot_confusion_matrix(cnf_matrix, classes=['N', 'S', 'V', 'F', 'Q'],\n",
        "                      title='Confusion matrix, with normalization',\n",
        "                      normalize=True)\n",
        "plt.show()"
      ],
      "outputs": [
        {
          "output_type": "stream",
          "name": "stdout",
          "text": [
            "Normalized confusion matrix\n"
          ]
        },
        {
          "output_type": "display_data",
          "data": {
            "text/plain": [
              "<Figure size 720x720 with 2 Axes>"
            ],
            "image/png": "[encoded data removed]"
          },
          "metadata": {
            "needs_background": "light"
          }
        }
      ],
      "metadata": {
        "id": "MyU_etF5V_Lz",
        "colab": {
          "base_uri": "https://localhost:8080/",
          "height": 746
        },
        "outputId": "ccf5a3c4-24df-4c51-fc6f-c1ba3e326fad"
      }
    }
  ],
  "metadata": {
    "interpreter": {
      "hash": "debd7f09b077943c30761037e822b136a322b4ca98aecc4298d815b1829f859f"
    },
    "kernelspec": {
      "display_name": "Python 3.8.12 64-bit ('AISat': conda)",
      "name": "python3"
    },
    "language_info": {
      "codemirror_mode": {
        "name": "ipython",
        "version": 3
      },
      "file_extension": ".py",
      "mimetype": "text/x-python",
      "name": "python",
      "nbconvert_exporter": "python",
      "pygments_lexer": "ipython3",
      "version": "3.8.12"
    },
    "colab": {
      "name": "Gonzalo_DL1_Practice_ECG.ipynb",
      "provenance": [],
      "collapsed_sections": [
        "3NwSmZ--V_Lr",
        "sZBDXRfVV_Lt"
      ],
      "toc_visible": true
    },
    "accelerator": "GPU"
  },
  "nbformat": 4,
  "nbformat_minor": 0
}